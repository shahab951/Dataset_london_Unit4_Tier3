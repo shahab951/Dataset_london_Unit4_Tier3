{
 "cells": [
  {
   "cell_type": "markdown",
   "metadata": {
    "colab_type": "text",
    "id": "Tia3MP1SJpgj"
   },
   "source": [
    "# Springboard Data Science Career Track Unit 4 Challenge - Tier 3 Complete\n",
    "\n",
    "## Objectives\n",
    "Hey! Great job getting through those challenging DataCamp courses. You're learning a lot in a short span of time. \n",
    "\n",
    "In this notebook, you're going to apply the skills you've been learning, bridging the gap between the controlled environment of DataCamp and the *slightly* messier work that data scientists do with actual datasets!\n",
    "\n",
    "Here’s the mystery we’re going to solve: ***which boroughs of London have seen the greatest increase in housing prices, on average, over the last two decades?***\n",
    "\n",
    "\n",
    "A borough is just a fancy word for district. You may be familiar with the five boroughs of New York… well, there are 32 boroughs within Greater London [(here's some info for the curious)](https://en.wikipedia.org/wiki/London_boroughs). Some of them are more desirable areas to live in, and the data will reflect that with a greater rise in housing prices.\n",
    "\n",
    "***This is the Tier 3 notebook, which means it's not filled in at all: we'll just give you the skeleton of a project, the brief and the data. It's up to you to play around with it and see what you can find out! Good luck! If you struggle, feel free to look at easier tiers for help; but try to dip in and out of them, as the more independent work you do, the better it is for your learning!***\n",
    "\n",
    "This challenge will make use of only what you learned in the following DataCamp courses: \n",
    "- Prework courses (Introduction to Python for Data Science, Intermediate Python for Data Science)\n",
    "- Data Types for Data Science\n",
    "- Python Data Science Toolbox (Part One) \n",
    "- pandas Foundations\n",
    "- Manipulating DataFrames with pandas\n",
    "- Merging DataFrames with pandas\n",
    "\n",
    "Of the tools, techniques and concepts in the above DataCamp courses, this challenge should require the application of the following: \n",
    "- **pandas**\n",
    "    - **data ingestion and inspection** (pandas Foundations, Module One) \n",
    "    - **exploratory data analysis** (pandas Foundations, Module Two)\n",
    "    - **tidying and cleaning** (Manipulating DataFrames with pandas, Module Three) \n",
    "    - **transforming DataFrames** (Manipulating DataFrames with pandas, Module One)\n",
    "    - **subsetting DataFrames with lists** (Manipulating DataFrames with pandas, Module One) \n",
    "    - **filtering DataFrames** (Manipulating DataFrames with pandas, Module One) \n",
    "    - **grouping data** (Manipulating DataFrames with pandas, Module Four) \n",
    "    - **melting data** (Manipulating DataFrames with pandas, Module Three) \n",
    "    - **advanced indexing** (Manipulating DataFrames with pandas, Module Four) \n",
    "- **matplotlib** (Intermediate Python for Data Science, Module One)\n",
    "- **fundamental data types** (Data Types for Data Science, Module One) \n",
    "- **dictionaries** (Intermediate Python for Data Science, Module Two)\n",
    "- **handling dates and times** (Data Types for Data Science, Module Four)\n",
    "- **function definition** (Python Data Science Toolbox - Part One, Module One)\n",
    "- **default arguments, variable length, and scope** (Python Data Science Toolbox - Part One, Module Two) \n",
    "- **lambda functions and error handling** (Python Data Science Toolbox - Part One, Module Four) "
   ]
  },
  {
   "cell_type": "markdown",
   "metadata": {
    "colab_type": "text",
    "id": "Ipgd2nV8Jpgl"
   },
   "source": [
    "## The Data Science Pipeline\n",
    "\n",
    "This is Tier Three, so we'll get you started. But after that, it's all in your hands! When you feel done with your investigations, look back over what you've accomplished, and prepare a quick presentation of your findings for the next mentor meeting. \n",
    "\n",
    "Data Science is magical. In this case study, you'll get to apply some complex machine learning algorithms. But as  [David Spiegelhalter](https://www.youtube.com/watch?v=oUs1uvsz0Ok) reminds us, there is no substitute for simply **taking a really, really good look at the data.** Sometimes, this is all we need to answer our question.\n",
    "\n",
    "Data Science projects generally adhere to the four stages of Data Science Pipeline:\n",
    "1. Sourcing and loading \n",
    "2. Cleaning, transforming, and visualizing \n",
    "3. Modeling \n",
    "4. Evaluating and concluding \n"
   ]
  },
  {
   "cell_type": "markdown",
   "metadata": {
    "colab_type": "text",
    "id": "zswDqbefJpgm"
   },
   "source": [
    "### 1. Sourcing and Loading \n",
    "\n",
    "Any Data Science project kicks off by importing  ***pandas***. The documentation of this wonderful library can be found [here](https://pandas.pydata.org/). As you've seen, pandas is conveniently connected to the [Numpy](http://www.numpy.org/) and [Matplotlib](https://matplotlib.org/) libraries. \n",
    "\n",
    "***Hint:*** This part of the data science pipeline will test those skills you acquired in the pandas Foundations course, Module One. "
   ]
  },
  {
   "cell_type": "markdown",
   "metadata": {
    "colab_type": "text",
    "id": "aEau5nEvJpgm"
   },
   "source": [
    "#### 1.1. Importing Libraries"
   ]
  },
  {
   "cell_type": "code",
   "execution_count": 22,
   "metadata": {
    "colab": {},
    "colab_type": "code",
    "id": "7Bt_Q_oPJpgn"
   },
   "outputs": [],
   "source": [
    "# Let's import the pandas, numpy libraries as pd, and np respectively. \n",
    "import pandas as pd\n",
    "import numpy as np\n",
    "\n",
    "# Load the pyplot collection of functions from matplotlib, as plt \n",
    "import matplotlib.pyplot as plt\n"
   ]
  },
  {
   "cell_type": "markdown",
   "metadata": {
    "colab_type": "text",
    "id": "koUrawxsJpgq"
   },
   "source": [
    "#### 1.2.  Loading the data\n",
    "Your data comes from the [London Datastore](https://data.london.gov.uk/): a free, open-source data-sharing portal for London-oriented datasets. "
   ]
  },
  {
   "cell_type": "code",
   "execution_count": 23,
   "metadata": {
    "colab": {},
    "colab_type": "code",
    "id": "AiLiD4v3Jpgr"
   },
   "outputs": [],
   "source": [
    "# First, make a variable called url_LondonHousePrices, and assign it the following link, enclosed in quotation-marks as a string:\n",
    "# https://data.london.gov.uk/download/uk-house-price-index/70ac0766-8902-4eb5-aab5-01951aaed773/UK%20House%20price%20index.xls\n",
    "\n",
    "url_LondonHousePrices = \"https://data.london.gov.uk/download/uk-house-price-index/70ac0766-8902-4eb5-aab5-01951aaed773/UK%20House%20price%20index.xls\"\n",
    "\n",
    "# The dataset we're interested in contains the Average prices of the houses, and is actually on a particular sheet of the Excel file. \n",
    "# As a result, we need to specify the sheet name in the read_excel() method.\n",
    "# Put this data into a variable called properties.  \n",
    "properties = pd.read_excel(url_LondonHousePrices, sheet_name='Average price', index_col= None)"
   ]
  },
  {
   "cell_type": "markdown",
   "metadata": {
    "colab_type": "text",
    "id": "POukEJXgJpgu"
   },
   "source": [
    "### 2. Cleaning, transforming, and visualizing\n",
    "This second stage is arguably the most important part of any Data Science project. The first thing to do is take a proper look at the data. Cleaning forms the majority of this stage, and can be done both before or after Transformation.\n",
    "\n",
    "The end goal of data cleaning is to have tidy data. When data is tidy: \n",
    "\n",
    "1. Each variable has a column.\n",
    "2. Each observation forms a row.\n",
    "\n",
    "Keep the end goal in mind as you move through this process, every step will take you closer. \n",
    "\n",
    "\n",
    "\n",
    "***Hint:*** This part of the data science pipeline should test those skills you acquired in: \n",
    "- Intermediate Python for data science, all modules.\n",
    "- pandas Foundations, all modules. \n",
    "- Manipulating DataFrames with pandas, all modules.\n",
    "- Data Types for Data Science, Module Four.\n",
    "- Python Data Science Toolbox - Part One, all modules"
   ]
  },
  {
   "cell_type": "markdown",
   "metadata": {
    "colab_type": "text",
    "id": "Te0Q548tnzZa"
   },
   "source": [
    "**2.1. Exploring your data** \n",
    "\n",
    "Think about your pandas functions for checking out a dataframe. "
   ]
  },
  {
   "cell_type": "code",
   "execution_count": 24,
   "metadata": {
    "colab": {},
    "colab_type": "code",
    "id": "Rxirxw_qoAJa"
   },
   "outputs": [
    {
     "name": "stdout",
     "output_type": "stream",
     "text": [
      "  Unnamed: 0 City of London Barking & Dagenham       Barnet       Bexley  \\\n",
      "0        NaT      E09000001          E09000002    E09000003    E09000004   \n",
      "1 1995-01-01    91448.98487         50460.2266  93284.51832  64958.09036   \n",
      "2 1995-02-01    82202.77314        51085.77983  93190.16963  64787.92069   \n",
      "3 1995-03-01    79120.70256        51268.96956  92247.52435  64367.49344   \n",
      "4 1995-04-01    77101.20804        53133.50526  90762.87492  64277.66881   \n",
      "\n",
      "         Brent      Bromley       Camden      Croydon       Ealing  ...  \\\n",
      "0    E09000005    E09000006    E09000007    E09000008    E09000009  ...   \n",
      "1  71306.56698  81671.47692  120932.8881  69158.16225  79885.89069  ...   \n",
      "2  72022.26197  81657.55944  119508.8622  68951.09542  80897.06551  ...   \n",
      "3  72015.76274  81449.31143  120282.2131  68712.44341  81379.86288  ...   \n",
      "4  72965.63094  81124.41227   120097.899  68610.04641  82188.90498  ...   \n",
      "\n",
      "    NORTH WEST YORKS & THE HUMBER EAST MIDLANDS WEST MIDLANDS EAST OF ENGLAND  \\\n",
      "0    E12000002          E12000003     E12000004     E12000005       E12000006   \n",
      "1  43958.48001        44803.42878   45544.52227   48527.52339      56701.5961   \n",
      "2  43925.42289        44528.80721   46051.57066   49341.29029     56593.59475   \n",
      "3   44434.8681        45200.46775   45383.82395   49442.17973     56171.18278   \n",
      "4   44267.7796        45614.34341   46124.23045   49455.93299     56567.89582   \n",
      "\n",
      "        LONDON   SOUTH EAST   SOUTH WEST Unnamed: 47      England  \n",
      "0    E12000007    E12000008    E12000009         NaN    E92000001  \n",
      "1  74435.76052  64018.87894   54705.1579         NaN  53202.77128  \n",
      "2  72777.93709  63715.02399  54356.14843         NaN   53096.1549  \n",
      "3  73896.84204  64113.60858  53583.07667         NaN   53201.2843  \n",
      "4  74455.28754  64623.22395  54786.01938         NaN   53590.8548  \n",
      "\n",
      "[5 rows x 49 columns]\n"
     ]
    },
    {
     "data": {
      "text/plain": [
       "(322, 49)"
      ]
     },
     "execution_count": 24,
     "metadata": {},
     "output_type": "execute_result"
    }
   ],
   "source": [
    "print(properties.head())\n",
    "properties.shape"
   ]
  },
  {
   "cell_type": "markdown",
   "metadata": {
    "colab_type": "text",
    "id": "tE9Sqt9-oAta"
   },
   "source": [
    "**2.2. Cleaning the data**\n",
    "\n",
    "You might find you need to transpose your dataframe, check out what its row indexes are, and reset the index. You  also might find you need to assign the values of the first row to your column headings  . (Hint: recall the .columns feature of DataFrames, as well as the iloc[] method).\n",
    "\n",
    "Don't be afraid to use StackOverflow for help  with this."
   ]
  },
  {
   "cell_type": "code",
   "execution_count": 25,
   "metadata": {
    "colab": {},
    "colab_type": "code",
    "id": "cdAu1A3YoH_r"
   },
   "outputs": [
    {
     "name": "stdout",
     "output_type": "stream",
     "text": [
      "                          0                    1                    2    \\\n",
      "Unnamed: 0                NaT  1995-01-01 00:00:00  1995-02-01 00:00:00   \n",
      "City of London      E09000001          91448.98487          82202.77314   \n",
      "Barking & Dagenham  E09000002           50460.2266          51085.77983   \n",
      "Barnet              E09000003          93284.51832          93190.16963   \n",
      "Bexley              E09000004          64958.09036          64787.92069   \n",
      "\n",
      "                                    3                    4    \\\n",
      "Unnamed: 0          1995-03-01 00:00:00  1995-04-01 00:00:00   \n",
      "City of London              79120.70256          77101.20804   \n",
      "Barking & Dagenham          51268.96956          53133.50526   \n",
      "Barnet                      92247.52435          90762.87492   \n",
      "Bexley                      64367.49344          64277.66881   \n",
      "\n",
      "                                    5                    6    \\\n",
      "Unnamed: 0          1995-05-01 00:00:00  1995-06-01 00:00:00   \n",
      "City of London              84409.14932          94900.51244   \n",
      "Barking & Dagenham          53042.24852          53700.34831   \n",
      "Barnet                      90258.00033          90107.23471   \n",
      "Bexley                      63997.13588          64252.32335   \n",
      "\n",
      "                                    7                    8    \\\n",
      "Unnamed: 0          1995-07-01 00:00:00  1995-08-01 00:00:00   \n",
      "City of London              110128.0423          112329.4376   \n",
      "Barking & Dagenham          52113.12157          52232.19868   \n",
      "Barnet                      91441.24768          92361.31512   \n",
      "Bexley                      63722.70055          64432.60005   \n",
      "\n",
      "                                    9    ...                  312  \\\n",
      "Unnamed: 0          1995-09-01 00:00:00  ...  2020-12-01 00:00:00   \n",
      "City of London              104473.1096  ...          801999.0466   \n",
      "Barking & Dagenham          51471.61353  ...          309560.1023   \n",
      "Barnet                      93273.12245  ...          532528.0926   \n",
      "Bexley                      64509.54767  ...          352260.8385   \n",
      "\n",
      "                                    313                  314  \\\n",
      "Unnamed: 0          2021-01-01 00:00:00  2021-02-01 00:00:00   \n",
      "City of London              754194.0982          725011.1264   \n",
      "Barking & Dagenham          312470.4977          315749.3442   \n",
      "Barnet                      538683.8133          537171.1625   \n",
      "Bexley                      355756.7322          359323.8616   \n",
      "\n",
      "                                    315                  316  \\\n",
      "Unnamed: 0          2021-03-01 00:00:00  2021-04-01 00:00:00   \n",
      "City of London              719703.4989          728496.7198   \n",
      "Barking & Dagenham          312381.5975          313131.2516   \n",
      "Barnet                      537972.6322           530778.403   \n",
      "Bexley                      361782.2198          362053.2197   \n",
      "\n",
      "                                    317                  318  \\\n",
      "Unnamed: 0          2021-05-01 00:00:00  2021-06-01 00:00:00   \n",
      "City of London              720954.3631          729878.6878   \n",
      "Barking & Dagenham          312430.6526          317234.7354   \n",
      "Barnet                      533319.3495          541296.7827   \n",
      "Bexley                      361919.1777          364464.1865   \n",
      "\n",
      "                                    319                  320  \\\n",
      "Unnamed: 0          2021-07-01 00:00:00  2021-08-01 00:00:00   \n",
      "City of London                        -                    -   \n",
      "Barking & Dagenham          319549.9296          322496.3752   \n",
      "Barnet                      536012.6687          544558.8072   \n",
      "Bexley                      366451.6388          373547.2951   \n",
      "\n",
      "                                    321  \n",
      "Unnamed: 0          2021-09-01 00:00:00  \n",
      "City of London                        -  \n",
      "Barking & Dagenham          329287.2922  \n",
      "Barnet                       533093.293  \n",
      "Bexley                       375156.155  \n",
      "\n",
      "[5 rows x 322 columns]\n",
      "Index(['Unnamed: 0', 'City of London', 'Barking & Dagenham', 'Barnet',\n",
      "       'Bexley', 'Brent', 'Bromley', 'Camden', 'Croydon', 'Ealing', 'Enfield',\n",
      "       'Greenwich', 'Hackney', 'Hammersmith & Fulham', 'Haringey', 'Harrow',\n",
      "       'Havering', 'Hillingdon', 'Hounslow', 'Islington',\n",
      "       'Kensington & Chelsea', 'Kingston upon Thames', 'Lambeth', 'Lewisham',\n",
      "       'Merton', 'Newham', 'Redbridge', 'Richmond upon Thames', 'Southwark',\n",
      "       'Sutton', 'Tower Hamlets', 'Waltham Forest', 'Wandsworth',\n",
      "       'Westminster', 'Unnamed: 34', 'Inner London', 'Outer London',\n",
      "       'Unnamed: 37', 'NORTH EAST', 'NORTH WEST', 'YORKS & THE HUMBER',\n",
      "       'EAST MIDLANDS', 'WEST MIDLANDS', 'EAST OF ENGLAND', 'LONDON',\n",
      "       'SOUTH EAST', 'SOUTH WEST', 'Unnamed: 47', 'England'],\n",
      "      dtype='object')\n",
      "                index          0                    1                    2  \\\n",
      "0          Unnamed: 0        NaT  1995-01-01 00:00:00  1995-02-01 00:00:00   \n",
      "1      City of London  E09000001          91448.98487          82202.77314   \n",
      "2  Barking & Dagenham  E09000002           50460.2266          51085.77983   \n",
      "3              Barnet  E09000003          93284.51832          93190.16963   \n",
      "4              Bexley  E09000004          64958.09036          64787.92069   \n",
      "\n",
      "                     3                    4                    5  \\\n",
      "0  1995-03-01 00:00:00  1995-04-01 00:00:00  1995-05-01 00:00:00   \n",
      "1          79120.70256          77101.20804          84409.14932   \n",
      "2          51268.96956          53133.50526          53042.24852   \n",
      "3          92247.52435          90762.87492          90258.00033   \n",
      "4          64367.49344          64277.66881          63997.13588   \n",
      "\n",
      "                     6                    7                    8  ...  \\\n",
      "0  1995-06-01 00:00:00  1995-07-01 00:00:00  1995-08-01 00:00:00  ...   \n",
      "1          94900.51244          110128.0423          112329.4376  ...   \n",
      "2          53700.34831          52113.12157          52232.19868  ...   \n",
      "3          90107.23471          91441.24768          92361.31512  ...   \n",
      "4          64252.32335          63722.70055          64432.60005  ...   \n",
      "\n",
      "                   312                  313                  314  \\\n",
      "0  2020-12-01 00:00:00  2021-01-01 00:00:00  2021-02-01 00:00:00   \n",
      "1          801999.0466          754194.0982          725011.1264   \n",
      "2          309560.1023          312470.4977          315749.3442   \n",
      "3          532528.0926          538683.8133          537171.1625   \n",
      "4          352260.8385          355756.7322          359323.8616   \n",
      "\n",
      "                   315                  316                  317  \\\n",
      "0  2021-03-01 00:00:00  2021-04-01 00:00:00  2021-05-01 00:00:00   \n",
      "1          719703.4989          728496.7198          720954.3631   \n",
      "2          312381.5975          313131.2516          312430.6526   \n",
      "3          537972.6322           530778.403          533319.3495   \n",
      "4          361782.2198          362053.2197          361919.1777   \n",
      "\n",
      "                   318                  319                  320  \\\n",
      "0  2021-06-01 00:00:00  2021-07-01 00:00:00  2021-08-01 00:00:00   \n",
      "1          729878.6878                    -                    -   \n",
      "2          317234.7354          319549.9296          322496.3752   \n",
      "3          541296.7827          536012.6687          544558.8072   \n",
      "4          364464.1865          366451.6388          373547.2951   \n",
      "\n",
      "                   321  \n",
      "0  2021-09-01 00:00:00  \n",
      "1                    -  \n",
      "2          329287.2922  \n",
      "3           533093.293  \n",
      "4           375156.155  \n",
      "\n",
      "[5 rows x 323 columns]\n",
      "index             Unnamed: 0\n",
      "0                        NaT\n",
      "1        1995-01-01 00:00:00\n",
      "2        1995-02-01 00:00:00\n",
      "3        1995-03-01 00:00:00\n",
      "                ...         \n",
      "317      2021-05-01 00:00:00\n",
      "318      2021-06-01 00:00:00\n",
      "319      2021-07-01 00:00:00\n",
      "320      2021-08-01 00:00:00\n",
      "321      2021-09-01 00:00:00\n",
      "Name: 0, Length: 323, dtype: object\n",
      "0          Unnamed: 0        NaN  1995-01-01 00:00:00  1995-02-01 00:00:00  \\\n",
      "0          Unnamed: 0        NaT  1995-01-01 00:00:00  1995-02-01 00:00:00   \n",
      "1      City of London  E09000001          91448.98487          82202.77314   \n",
      "2  Barking & Dagenham  E09000002           50460.2266          51085.77983   \n",
      "3              Barnet  E09000003          93284.51832          93190.16963   \n",
      "4              Bexley  E09000004          64958.09036          64787.92069   \n",
      "\n",
      "0  1995-03-01 00:00:00  1995-04-01 00:00:00  1995-05-01 00:00:00  \\\n",
      "0  1995-03-01 00:00:00  1995-04-01 00:00:00  1995-05-01 00:00:00   \n",
      "1          79120.70256          77101.20804          84409.14932   \n",
      "2          51268.96956          53133.50526          53042.24852   \n",
      "3          92247.52435          90762.87492          90258.00033   \n",
      "4          64367.49344          64277.66881          63997.13588   \n",
      "\n",
      "0  1995-06-01 00:00:00  1995-07-01 00:00:00  1995-08-01 00:00:00  ...  \\\n",
      "0  1995-06-01 00:00:00  1995-07-01 00:00:00  1995-08-01 00:00:00  ...   \n",
      "1          94900.51244          110128.0423          112329.4376  ...   \n",
      "2          53700.34831          52113.12157          52232.19868  ...   \n",
      "3          90107.23471          91441.24768          92361.31512  ...   \n",
      "4          64252.32335          63722.70055          64432.60005  ...   \n",
      "\n",
      "0  2020-12-01 00:00:00  2021-01-01 00:00:00  2021-02-01 00:00:00  \\\n",
      "0  2020-12-01 00:00:00  2021-01-01 00:00:00  2021-02-01 00:00:00   \n",
      "1          801999.0466          754194.0982          725011.1264   \n",
      "2          309560.1023          312470.4977          315749.3442   \n",
      "3          532528.0926          538683.8133          537171.1625   \n",
      "4          352260.8385          355756.7322          359323.8616   \n",
      "\n",
      "0  2021-03-01 00:00:00  2021-04-01 00:00:00  2021-05-01 00:00:00  \\\n",
      "0  2021-03-01 00:00:00  2021-04-01 00:00:00  2021-05-01 00:00:00   \n",
      "1          719703.4989          728496.7198          720954.3631   \n",
      "2          312381.5975          313131.2516          312430.6526   \n",
      "3          537972.6322           530778.403          533319.3495   \n",
      "4          361782.2198          362053.2197          361919.1777   \n",
      "\n",
      "0  2021-06-01 00:00:00  2021-07-01 00:00:00  2021-08-01 00:00:00  \\\n",
      "0  2021-06-01 00:00:00  2021-07-01 00:00:00  2021-08-01 00:00:00   \n",
      "1          729878.6878                    -                    -   \n",
      "2          317234.7354          319549.9296          322496.3752   \n",
      "3          541296.7827          536012.6687          544558.8072   \n",
      "4          364464.1865          366451.6388          373547.2951   \n",
      "\n",
      "0  2021-09-01 00:00:00  \n",
      "0  2021-09-01 00:00:00  \n",
      "1                    -  \n",
      "2          329287.2922  \n",
      "3           533093.293  \n",
      "4           375156.155  \n",
      "\n",
      "[5 rows x 323 columns]\n",
      "0          Unnamed: 0        NaN 1995-01-01 00:00:00 1995-02-01 00:00:00  \\\n",
      "1      City of London  E09000001         91448.98487         82202.77314   \n",
      "2  Barking & Dagenham  E09000002          50460.2266         51085.77983   \n",
      "3              Barnet  E09000003         93284.51832         93190.16963   \n",
      "4              Bexley  E09000004         64958.09036         64787.92069   \n",
      "5               Brent  E09000005         71306.56698         72022.26197   \n",
      "\n",
      "0 1995-03-01 00:00:00 1995-04-01 00:00:00 1995-05-01 00:00:00  \\\n",
      "1         79120.70256         77101.20804         84409.14932   \n",
      "2         51268.96956         53133.50526         53042.24852   \n",
      "3         92247.52435         90762.87492         90258.00033   \n",
      "4         64367.49344         64277.66881         63997.13588   \n",
      "5         72015.76274         72965.63094         73704.04743   \n",
      "\n",
      "0 1995-06-01 00:00:00 1995-07-01 00:00:00 1995-08-01 00:00:00  ...  \\\n",
      "1         94900.51244         110128.0423         112329.4376  ...   \n",
      "2         53700.34831         52113.12157         52232.19868  ...   \n",
      "3         90107.23471         91441.24768         92361.31512  ...   \n",
      "4         64252.32335         63722.70055         64432.60005  ...   \n",
      "5         74310.48167         74127.03788          73547.0411  ...   \n",
      "\n",
      "0 2020-12-01 00:00:00 2021-01-01 00:00:00 2021-02-01 00:00:00  \\\n",
      "1         801999.0466         754194.0982         725011.1264   \n",
      "2         309560.1023         312470.4977         315749.3442   \n",
      "3         532528.0926         538683.8133         537171.1625   \n",
      "4         352260.8385         355756.7322         359323.8616   \n",
      "5         495066.6459         514525.2307         516500.5723   \n",
      "\n",
      "0 2021-03-01 00:00:00 2021-04-01 00:00:00 2021-05-01 00:00:00  \\\n",
      "1         719703.4989         728496.7198         720954.3631   \n",
      "2         312381.5975         313131.2516         312430.6526   \n",
      "3         537972.6322          530778.403         533319.3495   \n",
      "4         361782.2198         362053.2197         361919.1777   \n",
      "5         520406.5733         502074.0621         506917.3065   \n",
      "\n",
      "0 2021-06-01 00:00:00 2021-07-01 00:00:00 2021-08-01 00:00:00  \\\n",
      "1         729878.6878                   -                   -   \n",
      "2         317234.7354         319549.9296         322496.3752   \n",
      "3         541296.7827         536012.6687         544558.8072   \n",
      "4         364464.1865         366451.6388         373547.2951   \n",
      "5         514055.8987         528684.0547         533696.3904   \n",
      "\n",
      "0 2021-09-01 00:00:00  \n",
      "1                   -  \n",
      "2         329287.2922  \n",
      "3          533093.293  \n",
      "4          375156.155  \n",
      "5         542095.3343  \n",
      "\n",
      "[5 rows x 323 columns]\n"
     ]
    }
   ],
   "source": [
    "properties_T=properties.transpose()\n",
    "print(properties_T.head())\n",
    "print(properties_T.index)\n",
    "properties_T=properties_T.reset_index()\n",
    "properties_T.index\n",
    "print(properties_T.head())\n",
    "properties_T.columns\n",
    "print(properties_T.iloc[0])\n",
    "properties_T.columns=properties_T.iloc[0]\n",
    "print(properties_T.head())\n",
    "properties_T=properties_T.drop(0)\n",
    "print(properties_T.head())"
   ]
  },
  {
   "cell_type": "markdown",
   "metadata": {
    "colab_type": "text",
    "id": "o1uLbJAsoIjK"
   },
   "source": [
    "**2.3. Cleaning the data (part 2)**\n",
    "\n",
    "You might we have to **rename** a couple columns. How do you do this? The clue's pretty bold..."
   ]
  },
  {
   "cell_type": "code",
   "execution_count": 26,
   "metadata": {
    "colab": {},
    "colab_type": "code",
    "id": "GKkmn1AnoVZS"
   },
   "outputs": [
    {
     "name": "stdout",
     "output_type": "stream",
     "text": [
      "0      London_Borough         ID 1995-01-01 00:00:00 1995-02-01 00:00:00  \\\n",
      "1      City of London  E09000001         91448.98487         82202.77314   \n",
      "2  Barking & Dagenham  E09000002          50460.2266         51085.77983   \n",
      "3              Barnet  E09000003         93284.51832         93190.16963   \n",
      "4              Bexley  E09000004         64958.09036         64787.92069   \n",
      "5               Brent  E09000005         71306.56698         72022.26197   \n",
      "\n",
      "0 1995-03-01 00:00:00 1995-04-01 00:00:00 1995-05-01 00:00:00  \\\n",
      "1         79120.70256         77101.20804         84409.14932   \n",
      "2         51268.96956         53133.50526         53042.24852   \n",
      "3         92247.52435         90762.87492         90258.00033   \n",
      "4         64367.49344         64277.66881         63997.13588   \n",
      "5         72015.76274         72965.63094         73704.04743   \n",
      "\n",
      "0 1995-06-01 00:00:00 1995-07-01 00:00:00 1995-08-01 00:00:00  ...  \\\n",
      "1         94900.51244         110128.0423         112329.4376  ...   \n",
      "2         53700.34831         52113.12157         52232.19868  ...   \n",
      "3         90107.23471         91441.24768         92361.31512  ...   \n",
      "4         64252.32335         63722.70055         64432.60005  ...   \n",
      "5         74310.48167         74127.03788          73547.0411  ...   \n",
      "\n",
      "0 2020-12-01 00:00:00 2021-01-01 00:00:00 2021-02-01 00:00:00  \\\n",
      "1         801999.0466         754194.0982         725011.1264   \n",
      "2         309560.1023         312470.4977         315749.3442   \n",
      "3         532528.0926         538683.8133         537171.1625   \n",
      "4         352260.8385         355756.7322         359323.8616   \n",
      "5         495066.6459         514525.2307         516500.5723   \n",
      "\n",
      "0 2021-03-01 00:00:00 2021-04-01 00:00:00 2021-05-01 00:00:00  \\\n",
      "1         719703.4989         728496.7198         720954.3631   \n",
      "2         312381.5975         313131.2516         312430.6526   \n",
      "3         537972.6322          530778.403         533319.3495   \n",
      "4         361782.2198         362053.2197         361919.1777   \n",
      "5         520406.5733         502074.0621         506917.3065   \n",
      "\n",
      "0 2021-06-01 00:00:00 2021-07-01 00:00:00 2021-08-01 00:00:00  \\\n",
      "1         729878.6878                   -                   -   \n",
      "2         317234.7354         319549.9296         322496.3752   \n",
      "3         541296.7827         536012.6687         544558.8072   \n",
      "4         364464.1865         366451.6388         373547.2951   \n",
      "5         514055.8987         528684.0547         533696.3904   \n",
      "\n",
      "0 2021-09-01 00:00:00  \n",
      "1                   -  \n",
      "2         329287.2922  \n",
      "3          533093.293  \n",
      "4          375156.155  \n",
      "5         542095.3343  \n",
      "\n",
      "[5 rows x 323 columns]\n"
     ]
    },
    {
     "data": {
      "text/plain": [
       "Index([   'London_Borough',                'ID', 1995-01-01 00:00:00,\n",
       "       1995-02-01 00:00:00, 1995-03-01 00:00:00, 1995-04-01 00:00:00,\n",
       "       1995-05-01 00:00:00, 1995-06-01 00:00:00, 1995-07-01 00:00:00,\n",
       "       1995-08-01 00:00:00,\n",
       "       ...\n",
       "       2020-12-01 00:00:00, 2021-01-01 00:00:00, 2021-02-01 00:00:00,\n",
       "       2021-03-01 00:00:00, 2021-04-01 00:00:00, 2021-05-01 00:00:00,\n",
       "       2021-06-01 00:00:00, 2021-07-01 00:00:00, 2021-08-01 00:00:00,\n",
       "       2021-09-01 00:00:00],\n",
       "      dtype='object', name=0, length=323)"
      ]
     },
     "execution_count": 26,
     "metadata": {},
     "output_type": "execute_result"
    }
   ],
   "source": [
    "properties_T=properties_T.rename(columns={'Unnamed: 0': 'London_Borough', pd.NaT: 'ID'})\n",
    "print(properties_T.head())\n",
    "properties_T.columns"
   ]
  },
  {
   "cell_type": "markdown",
   "metadata": {
    "colab_type": "text",
    "id": "jy8BzXHmoWEw"
   },
   "source": [
    "**2.4.Transforming the data**\n",
    "\n",
    "Remember what Wes McKinney said about tidy data? \n",
    "\n",
    "You might need to **melt** your DataFrame here. "
   ]
  },
  {
   "cell_type": "code",
   "execution_count": 27,
   "metadata": {
    "colab": {},
    "colab_type": "code",
    "id": "S2wM0qLuo2Zt"
   },
   "outputs": [
    {
     "name": "stdout",
     "output_type": "stream",
     "text": [
      "       London_Borough         ID          0        value\n",
      "0      City of London  E09000001 1995-01-01  91448.98487\n",
      "1  Barking & Dagenham  E09000002 1995-01-01   50460.2266\n",
      "2              Barnet  E09000003 1995-01-01  93284.51832\n",
      "3              Bexley  E09000004 1995-01-01  64958.09036\n",
      "4               Brent  E09000005 1995-01-01  71306.56698\n",
      "       London_Borough         ID      Month Average_price\n",
      "0      City of London  E09000001 1995-01-01   91448.98487\n",
      "1  Barking & Dagenham  E09000002 1995-01-01    50460.2266\n",
      "2              Barnet  E09000003 1995-01-01   93284.51832\n",
      "3              Bexley  E09000004 1995-01-01   64958.09036\n",
      "4               Brent  E09000005 1995-01-01   71306.56698\n"
     ]
    },
    {
     "data": {
      "text/plain": [
       "London_Borough            object\n",
       "ID                        object\n",
       "Month             datetime64[ns]\n",
       "Average_price             object\n",
       "dtype: object"
      ]
     },
     "execution_count": 27,
     "metadata": {},
     "output_type": "execute_result"
    }
   ],
   "source": [
    "clean_properties=properties_T.melt(id_vars=['London_Borough','ID'])\n",
    "print(clean_properties.head())\n",
    "clean_properties=clean_properties.rename(columns={0: 'Month','value': 'Average_price'})\n",
    "print(clean_properties.head())\n",
    "clean_properties.dtypes"
   ]
  },
  {
   "cell_type": "markdown",
   "metadata": {
    "colab_type": "text",
    "id": "7kIsgAo7o3mf"
   },
   "source": [
    "Remember to make sure your column data types are all correct. Average prices, for example, should be floating point numbers... "
   ]
  },
  {
   "cell_type": "code",
   "execution_count": 28,
   "metadata": {
    "colab": {},
    "colab_type": "code",
    "id": "ZcR4IHbcpOaq"
   },
   "outputs": [
    {
     "name": "stdout",
     "output_type": "stream",
     "text": [
      "           London_Borough         ID      Month Average_price\n",
      "0          City of London  E09000001 1995-01-01   91448.98487\n",
      "1      Barking & Dagenham  E09000002 1995-01-01    50460.2266\n",
      "2                  Barnet  E09000003 1995-01-01   93284.51832\n",
      "3                  Bexley  E09000004 1995-01-01   64958.09036\n",
      "4                   Brent  E09000005 1995-01-01   71306.56698\n",
      "...                   ...        ...        ...           ...\n",
      "15403              LONDON  E12000007 2021-09-01   507253.0352\n",
      "15404          SOUTH EAST  E12000008 2021-09-01   370886.2724\n",
      "15405          SOUTH WEST  E12000009 2021-09-01   301327.0222\n",
      "15406         Unnamed: 47        NaN 2021-09-01           NaN\n",
      "15407             England  E92000001 2021-09-01   287895.4003\n",
      "\n",
      "[15408 rows x 4 columns]\n"
     ]
    }
   ],
   "source": [
    "print(clean_properties)\n",
    "clean_properties.iloc[[15264],[3]]=0; clean_properties.iloc[[15312],[3]]=0; clean_properties.iloc[[15360],[3]]=0\n",
    "clean_properties['Average_price']=pd.to_numeric(clean_properties['Average_price'], downcast='float')"
   ]
  },
  {
   "cell_type": "markdown",
   "metadata": {
    "colab_type": "text",
    "id": "knLUXHLypOtw"
   },
   "source": [
    "**2.5. Cleaning the data (part 3)**\n",
    "\n",
    "Do we have an equal number of observations in the ID, Average Price, Month, and London Borough columns? Remember that there are only 32 London Boroughs. How many entries do you have in that column? \n",
    "\n",
    "Check out the contents of the London Borough column, and if you find null values, get rid of them however you see fit. "
   ]
  },
  {
   "cell_type": "code",
   "execution_count": 29,
   "metadata": {
    "colab": {},
    "colab_type": "code",
    "id": "BnvTW5a3p0fC"
   },
   "outputs": [
    {
     "name": "stdout",
     "output_type": "stream",
     "text": [
      "['City of London' 'Barking & Dagenham' 'Barnet' 'Bexley' 'Brent' 'Bromley'\n",
      " 'Camden' 'Croydon' 'Ealing' 'Enfield' 'Greenwich' 'Hackney'\n",
      " 'Hammersmith & Fulham' 'Haringey' 'Harrow' 'Havering' 'Hillingdon'\n",
      " 'Hounslow' 'Islington' 'Kensington & Chelsea' 'Kingston upon Thames'\n",
      " 'Lambeth' 'Lewisham' 'Merton' 'Newham' 'Redbridge' 'Richmond upon Thames'\n",
      " 'Southwark' 'Sutton' 'Tower Hamlets' 'Waltham Forest' 'Wandsworth'\n",
      " 'Westminster' 'Unnamed: 34' 'Inner London' 'Outer London' 'Unnamed: 37'\n",
      " 'NORTH EAST' 'NORTH WEST' 'YORKS & THE HUMBER' 'EAST MIDLANDS'\n",
      " 'WEST MIDLANDS' 'EAST OF ENGLAND' 'LONDON' 'SOUTH EAST' 'SOUTH WEST'\n",
      " 'Unnamed: 47' 'England']\n",
      "      London_Borough   ID      Month  Average_price\n",
      "33       Unnamed: 34  NaN 1995-01-01            NaN\n",
      "81       Unnamed: 34  NaN 1995-02-01            NaN\n",
      "129      Unnamed: 34  NaN 1995-03-01            NaN\n",
      "177      Unnamed: 34  NaN 1995-04-01            NaN\n",
      "225      Unnamed: 34  NaN 1995-05-01            NaN\n",
      "...              ...  ...        ...            ...\n",
      "15201    Unnamed: 34  NaN 2021-05-01            NaN\n",
      "15249    Unnamed: 34  NaN 2021-06-01            NaN\n",
      "15297    Unnamed: 34  NaN 2021-07-01            NaN\n",
      "15345    Unnamed: 34  NaN 2021-08-01            NaN\n",
      "15393    Unnamed: 34  NaN 2021-09-01            NaN\n",
      "\n",
      "[321 rows x 4 columns]\n",
      "      London_Borough   ID      Month  Average_price\n",
      "36       Unnamed: 37  NaN 1995-01-01            NaN\n",
      "84       Unnamed: 37  NaN 1995-02-01            NaN\n",
      "132      Unnamed: 37  NaN 1995-03-01            NaN\n",
      "180      Unnamed: 37  NaN 1995-04-01            NaN\n",
      "228      Unnamed: 37  NaN 1995-05-01            NaN\n",
      "...              ...  ...        ...            ...\n",
      "15204    Unnamed: 37  NaN 2021-05-01            NaN\n",
      "15252    Unnamed: 37  NaN 2021-06-01            NaN\n",
      "15300    Unnamed: 37  NaN 2021-07-01            NaN\n",
      "15348    Unnamed: 37  NaN 2021-08-01            NaN\n",
      "15396    Unnamed: 37  NaN 2021-09-01            NaN\n",
      "\n",
      "[321 rows x 4 columns]\n",
      "      London_Borough   ID      Month  Average_price\n",
      "33       Unnamed: 34  NaN 1995-01-01            NaN\n",
      "36       Unnamed: 37  NaN 1995-01-01            NaN\n",
      "46       Unnamed: 47  NaN 1995-01-01            NaN\n",
      "81       Unnamed: 34  NaN 1995-02-01            NaN\n",
      "84       Unnamed: 37  NaN 1995-02-01            NaN\n",
      "...              ...  ...        ...            ...\n",
      "15348    Unnamed: 37  NaN 2021-08-01            NaN\n",
      "15358    Unnamed: 47  NaN 2021-08-01            NaN\n",
      "15393    Unnamed: 34  NaN 2021-09-01            NaN\n",
      "15396    Unnamed: 37  NaN 2021-09-01            NaN\n",
      "15406    Unnamed: 47  NaN 2021-09-01            NaN\n",
      "\n",
      "[963 rows x 4 columns]\n",
      "          London_Borough         ID      Month  Average_price\n",
      "0         City of London  E09000001 1995-01-01   91448.984375\n",
      "1     Barking & Dagenham  E09000002 1995-01-01   50460.226562\n",
      "2                 Barnet  E09000003 1995-01-01   93284.515625\n",
      "3                 Bexley  E09000004 1995-01-01   64958.089844\n",
      "4                  Brent  E09000005 1995-01-01   71306.570312\n",
      "5                Bromley  E09000006 1995-01-01   81671.476562\n",
      "6                 Camden  E09000007 1995-01-01  120932.890625\n",
      "7                Croydon  E09000008 1995-01-01   69158.164062\n",
      "8                 Ealing  E09000009 1995-01-01   79885.890625\n",
      "9                Enfield  E09000010 1995-01-01   72514.687500\n",
      "10             Greenwich  E09000011 1995-01-01   62300.101562\n",
      "11               Hackney  E09000012 1995-01-01   61296.527344\n",
      "12  Hammersmith & Fulham  E09000013 1995-01-01  124902.859375\n",
      "13              Haringey  E09000014 1995-01-01   76287.570312\n",
      "14                Harrow  E09000015 1995-01-01   84769.523438\n",
      "15              Havering  E09000016 1995-01-01   68000.140625\n",
      "16            Hillingdon  E09000017 1995-01-01   73834.828125\n",
      "17              Hounslow  E09000018 1995-01-01   72231.703125\n",
      "18             Islington  E09000019 1995-01-01   92516.484375\n",
      "19  Kensington & Chelsea  E09000020 1995-01-01  182694.828125\n",
      "20  Kingston upon Thames  E09000021 1995-01-01   80875.851562\n",
      "21               Lambeth  E09000022 1995-01-01   67770.992188\n",
      "22              Lewisham  E09000023 1995-01-01   60491.261719\n",
      "23                Merton  E09000024 1995-01-01   82070.617188\n",
      "24                Newham  E09000025 1995-01-01   53539.320312\n",
      "25             Redbridge  E09000026 1995-01-01   72189.585938\n",
      "26  Richmond upon Thames  E09000027 1995-01-01  109326.125000\n",
      "27             Southwark  E09000028 1995-01-01   67885.203125\n",
      "28                Sutton  E09000029 1995-01-01   71536.976562\n",
      "29         Tower Hamlets  E09000030 1995-01-01   59865.191406\n",
      "30        Waltham Forest  E09000031 1995-01-01   61319.449219\n",
      "31            Wandsworth  E09000032 1995-01-01   88559.046875\n",
      "32           Westminster  E09000033 1995-01-01  133025.281250\n",
      "34          Inner London  E13000001 1995-01-01   78251.976562\n",
      "35          Outer London  E13000002 1995-01-01   72958.796875\n",
      "37            NORTH EAST  E12000001 1995-01-01   42076.355469\n",
      "38            NORTH WEST  E12000002 1995-01-01   43958.480469\n",
      "39    YORKS & THE HUMBER  E12000003 1995-01-01   44803.429688\n",
      "40         EAST MIDLANDS  E12000004 1995-01-01   45544.523438\n",
      "41         WEST MIDLANDS  E12000005 1995-01-01   48527.523438\n",
      "42       EAST OF ENGLAND  E12000006 1995-01-01   56701.597656\n",
      "43                LONDON  E12000007 1995-01-01   74435.757812\n",
      "44            SOUTH EAST  E12000008 1995-01-01   64018.878906\n",
      "45            SOUTH WEST  E12000009 1995-01-01   54705.156250\n",
      "47               England  E92000001 1995-01-01   53202.769531\n",
      "48        City of London  E09000001 1995-02-01   82202.773438\n",
      "49    Barking & Dagenham  E09000002 1995-02-01   51085.781250\n",
      "50                Barnet  E09000003 1995-02-01   93190.171875\n",
      "14445\n",
      "          London_Borough         ID      Month  Average_price\n",
      "0         City of London  E09000001 1995-01-01   91448.984375\n",
      "1     Barking & Dagenham  E09000002 1995-01-01   50460.226562\n",
      "2                 Barnet  E09000003 1995-01-01   93284.515625\n",
      "3                 Bexley  E09000004 1995-01-01   64958.089844\n",
      "4                  Brent  E09000005 1995-01-01   71306.570312\n",
      "5                Bromley  E09000006 1995-01-01   81671.476562\n",
      "6                 Camden  E09000007 1995-01-01  120932.890625\n",
      "7                Croydon  E09000008 1995-01-01   69158.164062\n",
      "8                 Ealing  E09000009 1995-01-01   79885.890625\n",
      "9                Enfield  E09000010 1995-01-01   72514.687500\n",
      "10             Greenwich  E09000011 1995-01-01   62300.101562\n",
      "11               Hackney  E09000012 1995-01-01   61296.527344\n",
      "12  Hammersmith & Fulham  E09000013 1995-01-01  124902.859375\n",
      "13              Haringey  E09000014 1995-01-01   76287.570312\n",
      "14                Harrow  E09000015 1995-01-01   84769.523438\n",
      "15              Havering  E09000016 1995-01-01   68000.140625\n",
      "16            Hillingdon  E09000017 1995-01-01   73834.828125\n",
      "17              Hounslow  E09000018 1995-01-01   72231.703125\n",
      "18             Islington  E09000019 1995-01-01   92516.484375\n",
      "19  Kensington & Chelsea  E09000020 1995-01-01  182694.828125\n",
      "20  Kingston upon Thames  E09000021 1995-01-01   80875.851562\n",
      "21               Lambeth  E09000022 1995-01-01   67770.992188\n",
      "22              Lewisham  E09000023 1995-01-01   60491.261719\n",
      "23                Merton  E09000024 1995-01-01   82070.617188\n",
      "24                Newham  E09000025 1995-01-01   53539.320312\n",
      "25             Redbridge  E09000026 1995-01-01   72189.585938\n",
      "26  Richmond upon Thames  E09000027 1995-01-01  109326.125000\n",
      "27             Southwark  E09000028 1995-01-01   67885.203125\n",
      "28                Sutton  E09000029 1995-01-01   71536.976562\n",
      "29         Tower Hamlets  E09000030 1995-01-01   59865.191406\n",
      "30        Waltham Forest  E09000031 1995-01-01   61319.449219\n",
      "31            Wandsworth  E09000032 1995-01-01   88559.046875\n",
      "32           Westminster  E09000033 1995-01-01  133025.281250\n",
      "34          Inner London  E13000001 1995-01-01   78251.976562\n",
      "35          Outer London  E13000002 1995-01-01   72958.796875\n",
      "37            NORTH EAST  E12000001 1995-01-01   42076.355469\n",
      "38            NORTH WEST  E12000002 1995-01-01   43958.480469\n",
      "39    YORKS & THE HUMBER  E12000003 1995-01-01   44803.429688\n",
      "40         EAST MIDLANDS  E12000004 1995-01-01   45544.523438\n",
      "41         WEST MIDLANDS  E12000005 1995-01-01   48527.523438\n",
      "42       EAST OF ENGLAND  E12000006 1995-01-01   56701.597656\n",
      "43                LONDON  E12000007 1995-01-01   74435.757812\n",
      "44            SOUTH EAST  E12000008 1995-01-01   64018.878906\n",
      "45            SOUTH WEST  E12000009 1995-01-01   54705.156250\n",
      "47               England  E92000001 1995-01-01   53202.769531\n",
      "48        City of London  E09000001 1995-02-01   82202.773438\n",
      "49    Barking & Dagenham  E09000002 1995-02-01   51085.781250\n",
      "50                Barnet  E09000003 1995-02-01   93190.171875\n",
      "London_Borough    14445\n",
      "ID                14445\n",
      "Month             14445\n",
      "Average_price     14445\n",
      "dtype: int64\n",
      "['City of London' 'Barking & Dagenham' 'Barnet' 'Bexley' 'Brent' 'Bromley'\n",
      " 'Camden' 'Croydon' 'Ealing' 'Enfield' 'Greenwich' 'Hackney'\n",
      " 'Hammersmith & Fulham' 'Haringey' 'Harrow' 'Havering' 'Hillingdon'\n",
      " 'Hounslow' 'Islington' 'Kensington & Chelsea' 'Kingston upon Thames'\n",
      " 'Lambeth' 'Lewisham' 'Merton' 'Newham' 'Redbridge' 'Richmond upon Thames'\n",
      " 'Southwark' 'Sutton' 'Tower Hamlets' 'Waltham Forest' 'Wandsworth'\n",
      " 'Westminster' 'Inner London' 'Outer London' 'NORTH EAST' 'NORTH WEST'\n",
      " 'YORKS & THE HUMBER' 'EAST MIDLANDS' 'WEST MIDLANDS' 'EAST OF ENGLAND'\n",
      " 'LONDON' 'SOUTH EAST' 'SOUTH WEST' 'England']\n",
      "(15408, 4)\n",
      "(14445, 4)\n",
      "(14445, 4)\n",
      "       London_Borough         ID      Month  Average_price\n",
      "0      City of London  E09000001 1995-01-01   91448.984375\n",
      "1  Barking & Dagenham  E09000002 1995-01-01   50460.226562\n",
      "2              Barnet  E09000003 1995-01-01   93284.515625\n",
      "3              Bexley  E09000004 1995-01-01   64958.089844\n",
      "4               Brent  E09000005 1995-01-01   71306.570312\n",
      "       London_Borough         ID      Month  Average_price\n",
      "0      City of London  E09000001 1995-01-01   91448.984375\n",
      "1  Barking & Dagenham  E09000002 1995-01-01   50460.226562\n",
      "2              Barnet  E09000003 1995-01-01   93284.515625\n",
      "3              Bexley  E09000004 1995-01-01   64958.089844\n",
      "4               Brent  E09000005 1995-01-01   71306.570312\n",
      "London_Borough            object\n",
      "ID                        object\n",
      "Month             datetime64[ns]\n",
      "Average_price            float32\n",
      "dtype: object\n"
     ]
    }
   ],
   "source": [
    "print(clean_properties['London_Borough'].unique())\n",
    "print(clean_properties.query('London_Borough==\"Unnamed: 34\"'))\n",
    "print(clean_properties.query('London_Borough==\"Unnamed: 37\"'))\n",
    "print(clean_properties[clean_properties['ID'].isna()])\n",
    "NaNfreeDF1=clean_properties[clean_properties['Average_price'].notna()]\n",
    "print(NaNfreeDF1.head(48))\n",
    "print(len(NaNfreeDF1.index))\n",
    "NaNfreeDF2=clean_properties.dropna()\n",
    "print(NaNfreeDF2.head(48))\n",
    "print(NaNfreeDF2.count())\n",
    "print(NaNfreeDF2['London_Borough'].unique())\n",
    "print(clean_properties.shape)\n",
    "print(NaNfreeDF1.shape)\n",
    "print(NaNfreeDF2.shape)\n",
    "nonBoroughs=['Inner London','Outer London','NORTH EAST','NORTH WEST', 'YORK & THE HUMBER', 'EAST MIDLANDS', 'WEST MIDLANDS', 'EAST OF ENGLAND','LONDON', 'SOUTH EAST', 'SOUTH WEST', 'England']\n",
    "NaNfreeDF2=NaNfreeDF2[~NaNfreeDF2['London_Borough'].isin(nonBoroughs)]\n",
    "print(NaNfreeDF2.head())\n",
    "df=NaNfreeDF2\n",
    "print(df.head())\n",
    "print(df.dtypes)"
   ]
  },
  {
   "cell_type": "markdown",
   "metadata": {
    "colab_type": "text",
    "id": "PGEx6mJsp6dG"
   },
   "source": [
    "**2.6. Visualizing the data**\n",
    "\n",
    "To visualize the data, why not subset on a particular London Borough? Maybe do a line plot of Month against Average Price?"
   ]
  },
  {
   "cell_type": "code",
   "execution_count": 30,
   "metadata": {
    "colab": {},
    "colab_type": "code",
    "id": "nAg5pT9cqHAR"
   },
   "outputs": [
    {
     "data": {
      "image/png": "[encoded data removed]",
      "text/plain": [
       "<Figure size 432x288 with 1 Axes>"
      ]
     },
     "metadata": {
      "needs_background": "light"
     },
     "output_type": "display_data"
    }
   ],
   "source": [
    "Camden_prices=df[df['London_Borough']=='Camden']\n",
    "ax=Camden_prices.plot(kind='line', x='Month', y='Average_price')\n",
    "ax.set_ylabel('Price')\n",
    "plt.show()"
   ]
  },
  {
   "cell_type": "markdown",
   "metadata": {
    "colab_type": "text",
    "id": "aWTPqSJeqHnC"
   },
   "source": [
    "To limit the number of data points you have, you might want to extract the year from every month value your *Month* column. \n",
    "\n",
    "To this end, you *could* apply a ***lambda function***. Your logic could work as follows:\n",
    "1. look through the `Month` column\n",
    "2. extract the year from each individual value in that column \n",
    "3. store that corresponding year as separate column. \n",
    "\n",
    "Whether you go ahead with this is up to you. Just so long as you answer our initial brief: which boroughs of London have seen the greatest house price increase, on average, over the past two decades? "
   ]
  },
  {
   "cell_type": "code",
   "execution_count": 75,
   "metadata": {
    "colab": {},
    "colab_type": "code",
    "id": "e0DF92cyqnu8"
   },
   "outputs": [
    {
     "name": "stdout",
     "output_type": "stream",
     "text": [
      "           London_Borough         ID      Month  Average_price  Year\n",
      "15389       Tower Hamlets  E09000030 2021-09-01   440846.75000  2021\n",
      "15390      Waltham Forest  E09000031 2021-09-01   505389.18750  2021\n",
      "15391          Wandsworth  E09000032 2021-09-01   599124.43750  2021\n",
      "15392         Westminster  E09000033 2021-09-01   965766.37500  2021\n",
      "15399  YORKS & THE HUMBER  E12000003 2021-09-01   192354.28125  2021\n",
      "                         Average_price\n",
      "London_Borough     Year               \n",
      "Barking & Dagenham 1995   51817.968750\n",
      "                   1996   51718.191406\n",
      "                   1997   55974.261719\n",
      "                   1998   60285.820312\n",
      "                   1999   65320.933594\n",
      "...                                ...\n",
      "YORKS & THE HUMBER 2017  154819.796875\n",
      "                   2018  159936.250000\n",
      "                   2019  163445.109375\n",
      "                   2020  169665.046875\n",
      "                   2021  184285.500000\n",
      "\n",
      "[918 rows x 1 columns]\n",
      "                         Average_price\n",
      "London_Borough     Year               \n",
      "Barking & Dagenham 2001   88664.062500\n",
      "Southwark          2014  427767.406250\n",
      "Enfield            2016  385489.812500\n",
      "Ealing             2015  438310.531250\n",
      "Harrow             2016  453862.312500\n",
      "Camden             2015  787440.937500\n",
      "Bexley             2004  179141.171875\n",
      "Hackney            2014  456388.437500\n",
      "Westminster        2001  296105.500000\n",
      "Wandsworth         1995   88829.078125\n",
      "       London_Borough  Year  Average_price\n",
      "0  Barking & Dagenham  1995   51817.968750\n",
      "1  Barking & Dagenham  1996   51718.191406\n",
      "2  Barking & Dagenham  1997   55974.261719\n",
      "3  Barking & Dagenham  1998   60285.820312\n",
      "4  Barking & Dagenham  1999   65320.933594\n"
     ]
    }
   ],
   "source": [
    "df['Year']=df['Month'].apply(lambda t: t.year)\n",
    "print(df.tail())\n",
    "dfg=df.groupby(['London_Borough','Year'])[['Average_price']].mean()\n",
    "print(dfg)\n",
    "print(dfg.sample(10))\n",
    "dfg=dfg.reset_index()\n",
    "print(dfg.head())"
   ]
  },
  {
   "cell_type": "markdown",
   "metadata": {
    "colab_type": "text",
    "id": "2knuTxAEqoJ4"
   },
   "source": [
    "**3. Modeling**\n",
    "\n",
    "Consider creating a function that will calculate a ratio of house prices, comparing the price of a house in 2018 to the price in 1998.\n",
    "\n",
    "Consider calling this function create_price_ratio.\n",
    "\n",
    "You'd want this function to:\n",
    "1. Take a filter of dfg, specifically where this filter constrains the London_Borough, as an argument. For example, one admissible argument should be: dfg[dfg['London_Borough']=='Camden'].\n",
    "2. Get the Average Price for that Borough, for the years 1998 and 2018.\n",
    "4. Calculate the ratio of the Average Price for 1998 divided by the Average Price for 2018.\n",
    "5. Return that ratio.\n",
    "\n",
    "Once you've written this function, you ultimately want to use it to iterate through all the unique London_Boroughs and work out the ratio capturing the difference of house prices between 1998 and 2018.\n",
    "\n",
    "Bear in mind: you don't have to write a function like this if you don't want to. If you can solve the brief otherwise, then great! \n",
    "\n",
    "***Hint***: This section should test the skills you acquired in:\n",
    "- Python Data Science Toolbox - Part One, all modules"
   ]
  },
  {
   "cell_type": "code",
   "execution_count": 217,
   "metadata": {
    "colab": {},
    "colab_type": "code",
    "id": "cKTyr437UgDa"
   },
   "outputs": [
    {
     "name": "stdout",
     "output_type": "stream",
     "text": [
      "{'Barking & Dagenham': [0.20422255013447602], 'Barnet': [0.22945273031252544], 'Bexley': [0.23535073694856556], 'Brent': [0.2043086916459346], 'Bromley': [0.24421306606752216], 'Camden': [0.20261972211140844], 'City of London': [0.18862158079570648], 'Croydon': [0.2380328819154613], 'Ealing': [0.23194049168131192], 'Enfield': [0.23455064777897316], 'Greenwich': [0.20995012641005267], 'Hackney': [0.1613349338921729], 'Hammersmith & Fulham': [0.24167443761653734], 'Haringey': [0.19475620030436364], 'Harrow': [0.24635417480630376], 'Havering': [0.23120155284116423], 'Hillingdon': [0.23807976287339147], 'Hounslow': [0.25148317493943917], 'Islington': [0.20643890630011874], 'Kensington & Chelsea': [0.1967549200850771], 'Kingston upon Thames': [0.23416189981826138], 'Lambeth': [0.20170434777827703], 'Lewisham': [0.18351247042239494], 'Merton': [0.2109138095471929], 'Newham': [0.18848755561977312], 'Redbridge': [0.22365451336893807], 'Richmond upon Thames': [0.24967778763372928], 'Southwark': [0.18127484113941827], 'Sutton': [0.24280552836005267], 'Tower Hamlets': [0.21613671329361428], 'Waltham Forest': [0.17138678565395812], 'Wandsworth': [0.21018518159647012], 'Westminster': [0.18679140847248635], 'YORKS & THE HUMBER': [0.2979679891988214]}\n",
      "   Barking & Dagenham    Barnet    Bexley     Brent   Bromley   Camden  \\\n",
      "0            0.204223  0.229453  0.235351  0.204309  0.244213  0.20262   \n",
      "\n",
      "   City of London   Croydon   Ealing   Enfield  ...    Newham  Redbridge  \\\n",
      "0        0.188622  0.238033  0.23194  0.234551  ...  0.188488   0.223655   \n",
      "\n",
      "   Richmond upon Thames  Southwark    Sutton  Tower Hamlets  Waltham Forest  \\\n",
      "0              0.249678   0.181275  0.242806       0.216137        0.171387   \n",
      "\n",
      "   Wandsworth  Westminster  YORKS & THE HUMBER  \n",
      "0    0.210185     0.186791            0.297968  \n",
      "\n",
      "[1 rows x 34 columns]\n",
      "                index         0\n",
      "0  Barking & Dagenham  0.204223\n",
      "1              Barnet  0.229453\n",
      "2              Bexley  0.235351\n",
      "3               Brent  0.204309\n",
      "4             Bromley  0.244213\n",
      "\n",
      "                 Borough      2018\n",
      "33    YORKS & THE HUMBER  0.297968\n",
      "17              Hounslow  0.251483\n",
      "26  Richmond upon Thames  0.249678\n",
      "14                Harrow  0.246354\n",
      "4                Bromley  0.244213\n",
      "28                Sutton  0.242806\n",
      "12  Hammersmith & Fulham  0.241674\n",
      "16            Hillingdon  0.238080\n",
      "7                Croydon  0.238033\n",
      "2                 Bexley  0.235351\n",
      "9                Enfield  0.234551\n",
      "20  Kingston upon Thames  0.234162\n",
      "8                 Ealing  0.231940\n",
      "15              Havering  0.231202\n",
      "1                 Barnet  0.229453\n"
     ]
    },
    {
     "data": {
      "image/png": "[encoded data removed]",
      "text/plain": [
       "<Figure size 432x288 with 1 Axes>"
      ]
     },
     "metadata": {
      "needs_background": "light"
     },
     "output_type": "display_data"
    },
    {
     "name": "stdout",
     "output_type": "stream",
     "text": [
      "           Borough      2018\n",
      "32     Westminster  0.186791\n",
      "22        Lewisham  0.183512\n",
      "27       Southwark  0.181275\n",
      "30  Waltham Forest  0.171387\n",
      "11         Hackney  0.161335\n"
     ]
    }
   ],
   "source": [
    "def create_price_ratio(d):\n",
    "    price_2018=float(d['Average_price'][d['Year']==2018])\n",
    "    price_1998=float(d['Average_price'][d['Year']==1998])\n",
    "    ratio=[price_1998/price_2018]\n",
    "    return ratio\n",
    "create_price_ratio(dfg[dfg['London_Borough']=='Barking & Dagenham'])\n",
    "final={}\n",
    "for b in dfg['London_Borough'].unique():\n",
    "    borough=dfg[dfg['London_Borough']==b]\n",
    "    final[b]=create_price_ratio(borough)\n",
    "print(final)\n",
    "df_ratios=pd.DataFrame(final)\n",
    "print(df_ratios.head())\n",
    "df_ratios_T=df_ratios.transpose()\n",
    "df_ratios=df_ratios_T.reset_index()\n",
    "print(df_ratios.head())\n",
    "df_ratios.rename(columns={'index': 'Borough', 0: '2018'}, inplace=True)\n",
    "df_ratios.head()\n",
    "print()\n",
    "top15=df_ratios.sort_values(by='2018', ascending=False).head(15)\n",
    "print(top15)\n",
    "ax=top15[['Borough','2018']].plot(kind='bar')\n",
    "ax.set_xticklabels(top15.Borough)\n",
    "plt.show()\n",
    "The_lowest_values=df_ratios.sort_values(by='2018', ascending=False).tail()\n",
    "print(The_lowest_values)"
   ]
  },
  {
   "cell_type": "markdown",
   "metadata": {
    "colab_type": "text",
    "id": "NzYUI7FxJpgv"
   },
   "source": [
    "### 4. Conclusion\n",
    "What can you conclude? Type out your conclusion below. \n",
    "\n",
    "Look back at your notebook. Think about how you might summarize what you have done, and prepare a quick presentation on it to your mentor at your next meeting. \n",
    "\n",
    "We hope you enjoyed this practical project. It should have consolidated your data hygiene and pandas skills by looking at a real-world problem involving just the kind of dataset you might encounter as a budding data scientist. Congratulations, and looking forward to seeing you at the next step in the course! "
   ]
  },
  {
   "cell_type": "code",
   "execution_count": null,
   "metadata": {},
   "outputs": [],
   "source": [
    "#Is is concluded that the graph of average price for all of boroughs drung 1995-2018 is ascending specifically the rate of price increase is the highest for 2017-2018\n",
    "#Because the the slope of this part is the greatest\n",
    "#According to the graph the borough of Yorks & the Humber has the maximum ratio and the borough of Hackne"
   ]
  }
 ],
 "metadata": {
  "colab": {
   "collapsed_sections": [],
   "name": "Springboard Data Science Career Track Unit 4 Challenge - Tier 3 Complete .ipynb",
   "provenance": []
  },
  "kernelspec": {
   "display_name": "Python 3 (ipykernel)",
   "language": "python",
   "name": "python3"
  },
  "language_info": {
   "codemirror_mode": {
    "name": "ipython",
    "version": 3
   },
   "file_extension": ".py",
   "mimetype": "text/x-python",
   "name": "python",
   "nbconvert_exporter": "python",
   "pygments_lexer": "ipython3",
   "version": "3.9.7"
  }
 },
 "nbformat": 4,
 "nbformat_minor": 1
}
